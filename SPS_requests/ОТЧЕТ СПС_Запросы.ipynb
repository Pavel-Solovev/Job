{
 "cells": [
  {
   "cell_type": "code",
   "execution_count": 1,
   "metadata": {},
   "outputs": [],
   "source": [
    "import pandas as pd\n",
    "import matplotlib.pyplot as plt\n",
    "import seaborn as sns\n",
    "import datetime as dt\n",
    "import numpy as np\n",
    "import scipy.stats as stats\n",
    "from io import BytesIO\n",
    "import requests\n",
    "pd.options.display.max_columns = None\n",
    "import datetime\n",
    "from tkinter import *\n",
    "from tkinter.filedialog import askopenfilename"
   ]
  },
  {
   "cell_type": "markdown",
   "metadata": {},
   "source": [
    "# Подготовка отчета к замене id"
   ]
  },
  {
   "cell_type": "code",
   "execution_count": 2,
   "metadata": {
    "scrolled": true
   },
   "outputs": [
    {
     "data": {
      "text/html": [
       "<div>\n",
       "<style scoped>\n",
       "    .dataframe tbody tr th:only-of-type {\n",
       "        vertical-align: middle;\n",
       "    }\n",
       "\n",
       "    .dataframe tbody tr th {\n",
       "        vertical-align: top;\n",
       "    }\n",
       "\n",
       "    .dataframe thead th {\n",
       "        text-align: right;\n",
       "    }\n",
       "</style>\n",
       "<table border=\"1\" class=\"dataframe\">\n",
       "  <thead>\n",
       "    <tr style=\"text-align: right;\">\n",
       "      <th></th>\n",
       "      <th>Unnamed: 0</th>\n",
       "      <th>Unnamed: 1</th>\n",
       "      <th>Unnamed: 2</th>\n",
       "    </tr>\n",
       "  </thead>\n",
       "  <tbody>\n",
       "    <tr>\n",
       "      <th>0</th>\n",
       "      <td>NaN</td>\n",
       "      <td>center</td>\n",
       "      <td>40841806</td>\n",
       "    </tr>\n",
       "    <tr>\n",
       "      <th>1</th>\n",
       "      <td>NaN</td>\n",
       "      <td>dv</td>\n",
       "      <td>6744075</td>\n",
       "    </tr>\n",
       "    <tr>\n",
       "      <th>2</th>\n",
       "      <td>NaN</td>\n",
       "      <td>sibir</td>\n",
       "      <td>26523262</td>\n",
       "    </tr>\n",
       "    <tr>\n",
       "      <th>3</th>\n",
       "      <td>NaN</td>\n",
       "      <td>south</td>\n",
       "      <td>15859264</td>\n",
       "    </tr>\n",
       "    <tr>\n",
       "      <th>4</th>\n",
       "      <td>NaN</td>\n",
       "      <td>sz</td>\n",
       "      <td>16830044</td>\n",
       "    </tr>\n",
       "    <tr>\n",
       "      <th>5</th>\n",
       "      <td>NaN</td>\n",
       "      <td>ural</td>\n",
       "      <td>9741350</td>\n",
       "    </tr>\n",
       "    <tr>\n",
       "      <th>6</th>\n",
       "      <td>NaN</td>\n",
       "      <td>volga</td>\n",
       "      <td>5740253</td>\n",
       "    </tr>\n",
       "    <tr>\n",
       "      <th>7</th>\n",
       "      <td>NaN</td>\n",
       "      <td>others</td>\n",
       "      <td>2919582</td>\n",
       "    </tr>\n",
       "  </tbody>\n",
       "</table>\n",
       "</div>"
      ],
      "text/plain": [
       "   Unnamed: 0 Unnamed: 1  Unnamed: 2\n",
       "0         NaN    center     40841806\n",
       "1         NaN        dv      6744075\n",
       "2         NaN     sibir     26523262\n",
       "3         NaN     south     15859264\n",
       "4         NaN        sz     16830044\n",
       "5         NaN      ural      9741350\n",
       "6         NaN     volga      5740253\n",
       "7         NaN    others      2919582"
      ]
     },
     "execution_count": 2,
     "metadata": {},
     "output_type": "execute_result"
    }
   ],
   "source": [
    "#загрузка отчета для базы данных\n",
    "file = askopenfilename()\n",
    "d_report = pd.read_excel(file)\n",
    "# d_report = pd.read_excel(\"/Users/drdim/Downloads/check (49).xlsx\")\n",
    "d_report"
   ]
  },
  {
   "cell_type": "code",
   "execution_count": 3,
   "metadata": {},
   "outputs": [],
   "source": [
    "d_report.columns = ['adb_month', 'adb_mrf', 'adb_view']"
   ]
  },
  {
   "cell_type": "code",
   "execution_count": 4,
   "metadata": {},
   "outputs": [],
   "source": [
    "d_report['adb_month'] = '2021-10-01'\n",
    "d_report['adb_revenue'] = 0"
   ]
  },
  {
   "cell_type": "code",
   "execution_count": 5,
   "metadata": {},
   "outputs": [],
   "source": [
    "d_report_2 = d_report.groupby(['adb_month', 'adb_mrf']).sum()"
   ]
  },
  {
   "cell_type": "code",
   "execution_count": 6,
   "metadata": {
    "scrolled": true
   },
   "outputs": [
    {
     "data": {
      "text/html": [
       "<div>\n",
       "<style scoped>\n",
       "    .dataframe tbody tr th:only-of-type {\n",
       "        vertical-align: middle;\n",
       "    }\n",
       "\n",
       "    .dataframe tbody tr th {\n",
       "        vertical-align: top;\n",
       "    }\n",
       "\n",
       "    .dataframe thead th {\n",
       "        text-align: right;\n",
       "    }\n",
       "</style>\n",
       "<table border=\"1\" class=\"dataframe\">\n",
       "  <thead>\n",
       "    <tr style=\"text-align: right;\">\n",
       "      <th></th>\n",
       "      <th>adb_month</th>\n",
       "      <th>adb_mrf</th>\n",
       "      <th>adb_view</th>\n",
       "      <th>adb_revenue</th>\n",
       "    </tr>\n",
       "  </thead>\n",
       "  <tbody>\n",
       "    <tr>\n",
       "      <th>0</th>\n",
       "      <td>2021-10-01</td>\n",
       "      <td>11</td>\n",
       "      <td>40841806</td>\n",
       "      <td>0</td>\n",
       "    </tr>\n",
       "    <tr>\n",
       "      <th>1</th>\n",
       "      <td>2021-10-01</td>\n",
       "      <td>17</td>\n",
       "      <td>6744075</td>\n",
       "      <td>0</td>\n",
       "    </tr>\n",
       "    <tr>\n",
       "      <th>2</th>\n",
       "      <td>2021-10-01</td>\n",
       "      <td>666</td>\n",
       "      <td>2919582</td>\n",
       "      <td>0</td>\n",
       "    </tr>\n",
       "    <tr>\n",
       "      <th>3</th>\n",
       "      <td>2021-10-01</td>\n",
       "      <td>16</td>\n",
       "      <td>26523262</td>\n",
       "      <td>0</td>\n",
       "    </tr>\n",
       "    <tr>\n",
       "      <th>4</th>\n",
       "      <td>2021-10-01</td>\n",
       "      <td>14</td>\n",
       "      <td>15859264</td>\n",
       "      <td>0</td>\n",
       "    </tr>\n",
       "    <tr>\n",
       "      <th>5</th>\n",
       "      <td>2021-10-01</td>\n",
       "      <td>12</td>\n",
       "      <td>16830044</td>\n",
       "      <td>0</td>\n",
       "    </tr>\n",
       "    <tr>\n",
       "      <th>6</th>\n",
       "      <td>2021-10-01</td>\n",
       "      <td>15</td>\n",
       "      <td>9741350</td>\n",
       "      <td>0</td>\n",
       "    </tr>\n",
       "    <tr>\n",
       "      <th>7</th>\n",
       "      <td>2021-10-01</td>\n",
       "      <td>13</td>\n",
       "      <td>5740253</td>\n",
       "      <td>0</td>\n",
       "    </tr>\n",
       "  </tbody>\n",
       "</table>\n",
       "</div>"
      ],
      "text/plain": [
       "    adb_month  adb_mrf  adb_view  adb_revenue\n",
       "0  2021-10-01       11  40841806            0\n",
       "1  2021-10-01       17   6744075            0\n",
       "2  2021-10-01      666   2919582            0\n",
       "3  2021-10-01       16  26523262            0\n",
       "4  2021-10-01       14  15859264            0\n",
       "5  2021-10-01       12  16830044            0\n",
       "6  2021-10-01       15   9741350            0\n",
       "7  2021-10-01       13   5740253            0"
      ]
     },
     "execution_count": 6,
     "metadata": {},
     "output_type": "execute_result"
    }
   ],
   "source": [
    "d_report_2.reset_index(inplace=True)\n",
    "d_report_2['adb_mrf'] = d_report_2['adb_mrf'].str.replace(' ','', regex=False)\n",
    "d_report_2['adb_mrf'] = d_report_2['adb_mrf'].replace('center',11, regex=False)\n",
    "d_report_2['adb_mrf'] = d_report_2['adb_mrf'].replace('dv',17, regex=False)\n",
    "d_report_2['adb_mrf'] = d_report_2['adb_mrf'].replace('others',666, regex=False)\n",
    "d_report_2['adb_mrf'] = d_report_2['adb_mrf'].replace('sibir',16, regex=False)\n",
    "d_report_2['adb_mrf'] = d_report_2['adb_mrf'].replace('south',14, regex=False)\n",
    "d_report_2['adb_mrf'] = d_report_2['adb_mrf'].replace('sz',12, regex=False)\n",
    "d_report_2['adb_mrf'] = d_report_2['adb_mrf'].replace('ural',15, regex=False)\n",
    "d_report_2['adb_mrf'] = d_report_2['adb_mrf'].replace('volga',13, regex=False)\n",
    "d_report_2"
   ]
  },
  {
   "cell_type": "code",
   "execution_count": 7,
   "metadata": {},
   "outputs": [],
   "source": [
    "d_report_2.to_csv('G:/Py3.7/Dev_output/ОТЧЕТ СПС_Запросы_{}.csv'.format(min(d_report_2['adb_month'])), index=False, sep=\";\")"
   ]
  },
  {
   "cell_type": "code",
   "execution_count": null,
   "metadata": {},
   "outputs": [],
   "source": []
  },
  {
   "cell_type": "code",
   "execution_count": null,
   "metadata": {},
   "outputs": [],
   "source": []
  }
 ],
 "metadata": {
  "kernelspec": {
   "display_name": "Python 3",
   "language": "python",
   "name": "python3"
  },
  "language_info": {
   "codemirror_mode": {
    "name": "ipython",
    "version": 3
   },
   "file_extension": ".py",
   "mimetype": "text/x-python",
   "name": "python",
   "nbconvert_exporter": "python",
   "pygments_lexer": "ipython3",
   "version": "3.7.3"
  }
 },
 "nbformat": 4,
 "nbformat_minor": 2
}

{
 "cells": [
  {
   "cell_type": "code",
   "execution_count": 1,
   "metadata": {},
   "outputs": [],
   "source": [
    "import pandas as pd\n",
    "import datetime\n",
    "import dateutil\n",
    "import sqlalchemy \n",
    "import scipy.stats as sps\n",
    "import numpy as np\n",
    "from poisson_etest import poisson_etest\n",
    "from tqdm import tqdm\n",
    "from pyspark.sql.functions import explode\n",
    "\n",
    "def dig_sep(i):\n",
    "    return('{0:,}'.format(i).replace(',', ' '))\n",
    "\n",
    "def df_dig_sep(df):\n",
    "    ndf = df.copy()\n",
    "    for i in df.select_dtypes(include=['float']).columns.tolist():\n",
    "        ndf['i'] = ndf['i'].apply(lambda x: '{0:,}'.format(round(x,4)).replace(',', ' '))\n",
    "    for i in df.select_dtypes(include=['int']).columns.tolist():\n",
    "        ndf['i'] = ndf['i'].apply(lambda x: '{0:,}'.format(x).replace(',', ' '))\n",
    "    return (ndf)"
   ]
  },
  {
   "cell_type": "code",
   "execution_count": 2,
   "metadata": {},
   "outputs": [
    {
     "name": "stdout",
     "output_type": "stream",
     "text": [
      "Using /srv/tank/apps/hadoop/current/etc/hadoop_dmp/\n",
      "Using /srv/tank/apps/spark/spark-2.4.3-bin-hadoop2.7/\n",
      "findspark init done\n",
      "pyspark init done\n"
     ]
    }
   ],
   "source": [
    "from restream.content_script import *\n",
    "from pyspark.sql.types import *\n",
    "from pyspark.sql.functions import *\n",
    "import datetime\n",
    "from pyspark.sql import functions as F\n",
    "\n",
    "spark = create_spark_session(app_name='content_task', min_max_executors=(1, 20),\n",
    "                                queue='dev', current=False, driver_ip='10.35.212.202', hadoop_cluster='dmp',hive_metastore = 'dmp',\n",
    "                            memory=20, driver_memory=20,cores=3) #ekhd"
   ]
  },
  {
   "cell_type": "code",
   "execution_count": 10,
   "metadata": {},
   "outputs": [
    {
     "ename": "AttributeError",
     "evalue": "'DataFrame' object has no attribute 'show'",
     "output_type": "error",
     "traceback": [
      "\u001b[0;31m---------------------------------------------------------------------------\u001b[0m",
      "\u001b[0;31mAttributeError\u001b[0m                            Traceback (most recent call last)",
      "\u001b[0;32m<ipython-input-10-79cf6656230e>\u001b[0m in \u001b[0;36m<module>\u001b[0;34m\u001b[0m\n\u001b[1;32m      6\u001b[0m \u001b[0;34m.\u001b[0m\u001b[0mselect\u001b[0m\u001b[0;34m(\u001b[0m\u001b[0;34m'url'\u001b[0m\u001b[0;34m)\u001b[0m\u001b[0;34m.\u001b[0m\u001b[0mdistinct\u001b[0m\u001b[0;34m(\u001b[0m\u001b[0;34m)\u001b[0m\u001b[0;34m\u001b[0m\u001b[0;34m\u001b[0m\u001b[0m\n\u001b[1;32m      7\u001b[0m        )\n\u001b[0;32m----> 8\u001b[0;31m \u001b[0mHepa_auto\u001b[0m\u001b[0;34m.\u001b[0m\u001b[0mtoPandas\u001b[0m\u001b[0;34m(\u001b[0m\u001b[0;34m)\u001b[0m\u001b[0;34m.\u001b[0m\u001b[0mshow\u001b[0m\u001b[0;34m(\u001b[0m\u001b[0;34m)\u001b[0m\u001b[0;31m#.to_csv('/user/content_analyst/output/RCMPGN-132/Hepa_auto.csv',index=False)\u001b[0m\u001b[0;34m\u001b[0m\u001b[0;34m\u001b[0m\u001b[0m\n\u001b[0m",
      "\u001b[0;32m~/.conda/envs/content_py_37/lib/python3.7/site-packages/pandas/core/generic.py\u001b[0m in \u001b[0;36m__getattr__\u001b[0;34m(self, name)\u001b[0m\n\u001b[1;32m   5177\u001b[0m             \u001b[0;32mif\u001b[0m \u001b[0mself\u001b[0m\u001b[0;34m.\u001b[0m\u001b[0m_info_axis\u001b[0m\u001b[0;34m.\u001b[0m\u001b[0m_can_hold_identifiers_and_holds_name\u001b[0m\u001b[0;34m(\u001b[0m\u001b[0mname\u001b[0m\u001b[0;34m)\u001b[0m\u001b[0;34m:\u001b[0m\u001b[0;34m\u001b[0m\u001b[0;34m\u001b[0m\u001b[0m\n\u001b[1;32m   5178\u001b[0m                 \u001b[0;32mreturn\u001b[0m \u001b[0mself\u001b[0m\u001b[0;34m[\u001b[0m\u001b[0mname\u001b[0m\u001b[0;34m]\u001b[0m\u001b[0;34m\u001b[0m\u001b[0;34m\u001b[0m\u001b[0m\n\u001b[0;32m-> 5179\u001b[0;31m             \u001b[0;32mreturn\u001b[0m \u001b[0mobject\u001b[0m\u001b[0;34m.\u001b[0m\u001b[0m__getattribute__\u001b[0m\u001b[0;34m(\u001b[0m\u001b[0mself\u001b[0m\u001b[0;34m,\u001b[0m \u001b[0mname\u001b[0m\u001b[0;34m)\u001b[0m\u001b[0;34m\u001b[0m\u001b[0;34m\u001b[0m\u001b[0m\n\u001b[0m\u001b[1;32m   5180\u001b[0m \u001b[0;34m\u001b[0m\u001b[0m\n\u001b[1;32m   5181\u001b[0m     \u001b[0;32mdef\u001b[0m \u001b[0m__setattr__\u001b[0m\u001b[0;34m(\u001b[0m\u001b[0mself\u001b[0m\u001b[0;34m,\u001b[0m \u001b[0mname\u001b[0m\u001b[0;34m,\u001b[0m \u001b[0mvalue\u001b[0m\u001b[0;34m)\u001b[0m\u001b[0;34m:\u001b[0m\u001b[0;34m\u001b[0m\u001b[0;34m\u001b[0m\u001b[0m\n",
      "\u001b[0;31mAttributeError\u001b[0m: 'DataFrame' object has no attribute 'show'"
     ]
    }
   ],
   "source": [
    "Hepa_auto = (spark.read.table(\"datalab.full_categories_view\")\n",
    ".select('url',F.explode('categories').alias('cat_id','probability'))\n",
    ".filter((F.col('cat_id') == \"84\") | (F.col('cat_id') == '1099') | (F.col('cat_id') == '582') | (F.col('cat_id') == '1472'))\n",
    ".withColumn('url', F.split(F.col('url'), \"//\")[1])\n",
    ".withColumn('url', F.split(F.col('url'), \"/\")[0])\n",
    ".select('url').distinct()\n",
    "       )\n",
    "Hepa_auto.toPandas().to_csv('/user/content_analyst/output/RCMPGN-132/Hepa_auto.csv',index=False)"
   ]
  },
  {
   "cell_type": "code",
   "execution_count": 13,
   "metadata": {},
   "outputs": [],
   "source": [
    "# Hepa_auto.toPandas().to_csv('/user/content_analyst/result/RCMPGN-132/Hepa_auto.csv', index=False)\n",
    "Hepa_auto.coalesce(1).write.mode('overwrite').csv('/user/content_analyst/result/RCMPGN-132/Hepa_auto.csv',sep = ';',header = True)"
   ]
  },
  {
   "cell_type": "code",
   "execution_count": 46,
   "metadata": {},
   "outputs": [],
   "source": [
    "Hepa_fitnes = (spark.read.table(\"datalab.full_categories_view\")\n",
    ".select('url',F.explode('categories').alias('cat_id','probability'))\n",
    ".filter((F.col('cat_id') == \"477\") | (F.col('cat_id') == '556') | (F.col('cat_id') == '336') | (F.col('cat_id') == '248'))\n",
    ".withColumn('url', F.split(F.col('url'), \"//\")[1])\n",
    ".withColumn('url', F.split(F.col('url'), \"/\")[0])\n",
    ".select('url').distinct()\n",
    "       )\n",
    "Hepa_fitnes.coalesce(1).write.mode('overwrite').csv('/user/content_analyst/result/RCMPGN-132/Hepa_fitnes.csv',sep = ';',header = True)"
   ]
  },
  {
   "cell_type": "code",
   "execution_count": null,
   "metadata": {},
   "outputs": [],
   "source": [
    "Hepa_alco = (spark.read.table(\"datalab.full_categories_view\")\n",
    ".select('url',F.explode('categories').alias('cat_id','probability'))\n",
    ".filter((F.col('cat_id') == \"248\") | (F.col('cat_id') == '336') | (F.col('cat_id') == '556') | (F.col('cat_id') == '477'))\n",
    ".withColumn('url', F.split(F.col('url'), \"//\")[1])\n",
    ".withColumn('url', F.split(F.col('url'), \"/\")[0])\n",
    ".select('url').distinct()\n",
    "       )\n",
    "Hepa_alco.coalesce(1).write.mode('overwrite').csv('/user/content_analyst/result/RCMPGN-132/Hepa_alco.csv',sep = ';',header = True)"
   ]
  },
  {
   "cell_type": "code",
   "execution_count": null,
   "metadata": {},
   "outputs": [],
   "source": [
    "Hepa_fastfood = (spark.read.table(\"datalab.full_categories_view\")\n",
    ".select('url',F.explode('categories').alias('cat_id','probability'))\n",
    ".filter(F.col('cat_id') == \"331\")\n",
    ".withColumn('url', F.split(F.col('url'), \"//\")[1])\n",
    ".withColumn('url', F.split(F.col('url'), \"/\")[0])\n",
    ".select('url').distinct()\n",
    "       )\n",
    "Hepa_fastfood.coalesce(1).write.mode('overwrite').csv('/user/content_analyst/result/RCMPGN-132/Hepa_fastfood.csv',sep = ';',header = True)"
   ]
  },
  {
   "cell_type": "code",
   "execution_count": null,
   "metadata": {},
   "outputs": [],
   "source": [
    "Hepa_fooddel = (spark.read.table(\"datalab.full_categories_view\")\n",
    ".select('url',F.explode('categories').alias('cat_id','probability'))\n",
    ".filter(F.col('cat_id') == \"287\")\n",
    ".withColumn('url', F.split(F.col('url'), \"//\")[1])\n",
    ".withColumn('url', F.split(F.col('url'), \"/\")[0])\n",
    ".select('url').distinct()\n",
    "       )\n",
    "Hepa_fooddel.coalesce(1).write.mode('overwrite').csv('/user/content_analyst/result/RCMPGN-132/Hepa_fooddel.csv',sep = ';',header = True)"
   ]
  },
  {
   "cell_type": "code",
   "execution_count": 5,
   "metadata": {},
   "outputs": [],
   "source": [
    "spark.stop()"
   ]
  },
  {
   "cell_type": "code",
   "execution_count": 25,
   "metadata": {},
   "outputs": [],
   "source": [
    "Selverit_1 = (spark.read.table(\"datalab.full_categories_view\")\n",
    ".select('url',F.explode('categories').alias('cat_id','probability'))\n",
    ".filter(((F.col('cat_id') == \"153\") | (F.col('cat_id') == '493') | (F.col('cat_id') == '44') | (F.col('cat_id') == '765') | (F.col('cat_id') == '373') | (F.col('cat_id') == '318') \n",
    "                                        | (F.col('cat_id') == '398') | (F.col('cat_id') == '400') | (F.col('cat_id') == '426') | (F.col('cat_id') == '466') | (F.col('cat_id') == '506') | (F.col('cat_id') == '1374') \n",
    "                                        | (F.col('cat_id') == '213') & (F.col('probability') >= '50')))\n",
    ".withColumn('url', F.split(F.col('url'), \"//\")[1])\n",
    ".withColumn('url', F.split(F.col('url'), \"/\")[0])\n",
    ".select('url').distinct()\n",
    "       )\n",
    "Selverit_1.coalesce(1).write.mode('overwrite').csv('/user/content_analyst/result/RCMPGN-135/Selverit_1.csv',sep = ';',header = True)"
   ]
  },
  {
   "cell_type": "code",
   "execution_count": 26,
   "metadata": {},
   "outputs": [],
   "source": [
    "Selverit_2 = (spark.read.table(\"datalab.full_categories_view\")\n",
    ".select('url',F.explode('categories').alias('cat_id','probability'))\n",
    ".filter((F.col('probability') >= \"50\") & ((F.col('cat_id') == \"427\") | (F.col('cat_id') == '813') | (F.col('cat_id') == '602') | (F.col('cat_id') == '603') | (F.col('cat_id') == '604') | (F.col('cat_id') == '20')))\n",
    ".withColumn('url', F.split(F.col('url'), \"//\")[1])\n",
    ".withColumn('url', F.split(F.col('url'), \"/\")[0])\n",
    ".select('url').distinct()\n",
    "       )\n",
    "Selverit_2.coalesce(1).write.mode('overwrite').csv('/user/content_analyst/result/RCMPGN-135/Selverit_2.csv',sep = ';',header = True)"
   ]
  },
  {
   "cell_type": "code",
   "execution_count": null,
   "metadata": {},
   "outputs": [],
   "source": []
  },
  {
   "cell_type": "code",
   "execution_count": 44,
   "metadata": {},
   "outputs": [
    {
     "ename": "NameError",
     "evalue": "name 'url' is not defined",
     "output_type": "error",
     "traceback": [
      "\u001b[0;31m---------------------------------------------------------------------------\u001b[0m",
      "\u001b[0;31mNameError\u001b[0m                                 Traceback (most recent call last)",
      "\u001b[0;32m<ipython-input-44-a256757699a6>\u001b[0m in \u001b[0;36m<module>\u001b[0;34m\u001b[0m\n\u001b[1;32m     16\u001b[0m     \u001b[0mporn\u001b[0m\u001b[0;34m.\u001b[0m\u001b[0mselect\u001b[0m\u001b[0;34m(\u001b[0m\u001b[0;34m'url'\u001b[0m\u001b[0;34m)\u001b[0m\u001b[0;34m.\u001b[0m\u001b[0mtoPandas\u001b[0m\u001b[0;34m(\u001b[0m\u001b[0;34m)\u001b[0m\u001b[0;34m[\u001b[0m\u001b[0;34m'url'\u001b[0m\u001b[0;34m]\u001b[0m\u001b[0;34m\u001b[0m\u001b[0;34m\u001b[0m\u001b[0m\n\u001b[1;32m     17\u001b[0m )\n\u001b[0;32m---> 18\u001b[0;31m \u001b[0mMoreTV_1\u001b[0m \u001b[0;34m=\u001b[0m \u001b[0mMoreTV\u001b[0m\u001b[0;34m.\u001b[0m\u001b[0mfilter\u001b[0m\u001b[0;34m(\u001b[0m\u001b[0mF\u001b[0m\u001b[0;34m.\u001b[0m\u001b[0mcol\u001b[0m\u001b[0;34m(\u001b[0m\u001b[0;34m'url'\u001b[0m\u001b[0;34m)\u001b[0m\u001b[0;34m.\u001b[0m\u001b[0misin\u001b[0m\u001b[0;34m(\u001b[0m\u001b[0murl\u001b[0m\u001b[0;34m)\u001b[0m \u001b[0;34m==\u001b[0m \u001b[0;32mFalse\u001b[0m\u001b[0;34m)\u001b[0m\u001b[0;34m\u001b[0m\u001b[0;34m\u001b[0m\u001b[0m\n\u001b[0m\u001b[1;32m     19\u001b[0m \u001b[0;31m# MoreTV_1 = MoreTV.url.remove(porn) (~col('bar').isin(['a','b'])).show()\u001b[0m\u001b[0;34m\u001b[0m\u001b[0;34m\u001b[0m\u001b[0;34m\u001b[0m\u001b[0m\n\u001b[1;32m     20\u001b[0m \u001b[0;34m\u001b[0m\u001b[0m\n",
      "\u001b[0;31mNameError\u001b[0m: name 'url' is not defined"
     ]
    }
   ],
   "source": [
    "MoreTV = (spark.read.table(\"datalab.full_categories_view\")\n",
    ".select('url',F.explode('categories').alias('cat_id','probability'))\n",
    ".filter((F.col('cat_id') == \"251\") & (F.col('probability') >= \"20\"))\n",
    ".withColumn('url', F.split(F.col('url'), \"//\")[1])\n",
    ".withColumn('url', F.split(F.col('url'), \"/\")[0])\n",
    ".select('url').distinct()\n",
    "       )\n",
    "porn = (spark.read.table(\"datalab.full_categories_view\")\n",
    ".select('url',F.explode('categories').alias('cat_id','probability'))\n",
    ".filter(((F.col('cat_id') == \"796\") | (F.col('cat_id') == \"673\") | (F.col('cat_id') == \"674\") | (F.col('cat_id') == \"676\")) & (F.col('probability') >= \"10\"))\n",
    ".withColumn('url', F.split(F.col('url'), \"//\")[1])\n",
    ".withColumn('url', F.split(F.col('url'), \"/\")[0])\n",
    ".select('url').distinct()\n",
    "       )\n",
    "url_list = list(\n",
    "    porn.select('url').toPandas()['url']\n",
    ")\n",
    "MoreTV_1 = MoreTV.filter(F.col('url').isin(url_list) == False)\n",
    "# MoreTV_1 = MoreTV.url.remove(porn) (~col('bar').isin(['a','b'])).show()\n",
    "\n",
    "MoreTV_1.coalesce(1).write.mode('overwrite').csv('/user/content_analyst/result/RCMPGN-136/MoreTV_1.csv',sep = ';',header = True)"
   ]
  },
  {
   "cell_type": "code",
   "execution_count": 45,
   "metadata": {},
   "outputs": [],
   "source": [
    "MoreTV_1 = MoreTV.filter(F.col('url').isin(url_list) == False)\n",
    "# MoreTV_1 = MoreTV.url.remove(porn) (~col('bar').isin(['a','b'])).show()\n",
    "\n",
    "MoreTV_1.coalesce(1).write.mode('overwrite').csv('/user/content_analyst/result/RCMPGN-136/MoreTV_1.csv',sep = ';',header = True)"
   ]
  },
  {
   "cell_type": "code",
   "execution_count": null,
   "metadata": {},
   "outputs": [],
   "source": []
  },
  {
   "cell_type": "code",
   "execution_count": 47,
   "metadata": {},
   "outputs": [],
   "source": [
    "Sravni_zaimu = (spark.read.table(\"datalab.full_categories_view\")\n",
    ".select('url',F.explode('categories').alias('cat_id','probability'))\n",
    ".filter((F.col('probability') >= \"50\") & ((F.col('cat_id') == \"278\") | (F.col('cat_id') == '281') | (F.col('cat_id') == '283')))\n",
    ".withColumn('url', F.split(F.col('url'), \"//\")[1])\n",
    ".withColumn('url', F.split(F.col('url'), \"/\")[0])\n",
    ".select('url').distinct()\n",
    "       )\n",
    "Sravni_zaimu.coalesce(1).write.mode('overwrite').csv('/user/content_analyst/result/RCMPGN-155/Sravni_zaimu.csv',sep = ';',header = True)"
   ]
  },
  {
   "cell_type": "code",
   "execution_count": 48,
   "metadata": {},
   "outputs": [],
   "source": [
    "Sravni_property = (spark.read.table(\"datalab.full_categories_view\")\n",
    ".select('url',F.explode('categories').alias('cat_id','probability'))\n",
    ".filter((F.col('probability') >= \"50\") & (F.col('cat_id') == \"535\"))\n",
    ".withColumn('url', F.split(F.col('url'), \"//\")[1])\n",
    ".withColumn('url', F.split(F.col('url'), \"/\")[0])\n",
    ".select('url').distinct()\n",
    "       )\n",
    "Sravni_property.coalesce(1).write.mode('overwrite').csv('/user/content_analyst/result/RCMPGN-155/Sravni_property.csv',sep = ';',header = True)"
   ]
  },
  {
   "cell_type": "code",
   "execution_count": 49,
   "metadata": {},
   "outputs": [],
   "source": [
    "Sravni_wedding = (spark.read.table(\"datalab.full_categories_view\")\n",
    ".select('url',F.explode('categories').alias('cat_id','probability'))\n",
    ".filter((F.col('probability') >= \"50\") & ((F.col('cat_id') == \"151\") | (F.col('cat_id') == '1498')))\n",
    ".withColumn('url', F.split(F.col('url'), \"//\")[1])\n",
    ".withColumn('url', F.split(F.col('url'), \"/\")[0])\n",
    ".select('url').distinct()\n",
    "       )\n",
    "Sravni_wedding.coalesce(1).write.mode('overwrite').csv('/user/content_analyst/result/RCMPGN-155/Sravni_wedding.csv',sep = ';',header = True)"
   ]
  },
  {
   "cell_type": "code",
   "execution_count": null,
   "metadata": {},
   "outputs": [],
   "source": []
  },
  {
   "cell_type": "code",
   "execution_count": 50,
   "metadata": {},
   "outputs": [],
   "source": [
    "Greenfield_sales = (spark.read.table(\"datalab.full_categories_view\")\n",
    ".select('url',F.explode('categories').alias('cat_id','probability'))\n",
    ".filter((F.col('probability') >= \"50\") & ((F.col('cat_id') == \"892\") | (F.col('cat_id') == '1030')))\n",
    ".withColumn('url', F.split(F.col('url'), \"//\")[1])\n",
    ".withColumn('url', F.split(F.col('url'), \"/\")[0])\n",
    ".select('url').distinct()\n",
    "       )\n",
    "Greenfield_sales.coalesce(1).write.mode('overwrite').csv('/user/content_analyst/result/RCMPGN-153/Greenfield_sales.csv',sep = ';',header = True)"
   ]
  },
  {
   "cell_type": "code",
   "execution_count": 51,
   "metadata": {},
   "outputs": [],
   "source": [
    "Greenfield_deliv = (spark.read.table(\"datalab.full_categories_view\")\n",
    ".select('url',F.explode('categories').alias('cat_id','probability'))\n",
    ".filter((F.col('probability') >= \"50\") & (F.col('cat_id') == \"287\"))\n",
    ".withColumn('url', F.split(F.col('url'), \"//\")[1])\n",
    ".withColumn('url', F.split(F.col('url'), \"/\")[0])\n",
    ".select('url').distinct()\n",
    "       )\n",
    "Greenfield_deliv.coalesce(1).write.mode('overwrite').csv('/user/content_analyst/result/RCMPGN-153/Greenfield_deliv.csv',sep = ';',header = True)"
   ]
  },
  {
   "cell_type": "code",
   "execution_count": 52,
   "metadata": {},
   "outputs": [],
   "source": [
    "Greenfield_market = (spark.read.table(\"datalab.full_categories_view\")\n",
    ".select('url',F.explode('categories').alias('cat_id','probability'))\n",
    ".filter((F.col('probability') >= \"50\") & (F.col('cat_id') == \"1034\"))\n",
    ".withColumn('url', F.split(F.col('url'), \"//\")[1])\n",
    ".withColumn('url', F.split(F.col('url'), \"/\")[0])\n",
    ".select('url').distinct()\n",
    "       )\n",
    "Greenfield_market.coalesce(1).write.mode('overwrite').csv('/user/content_analyst/result/RCMPGN-153/Greenfield_market.csv',sep = ';',header = True)"
   ]
  },
  {
   "cell_type": "code",
   "execution_count": null,
   "metadata": {},
   "outputs": [],
   "source": []
  },
  {
   "cell_type": "code",
   "execution_count": 53,
   "metadata": {},
   "outputs": [],
   "source": [
    "Sto_loto = (spark.read.table(\"datalab.full_categories_view\")\n",
    ".select('url',F.explode('categories').alias('cat_id','probability'))\n",
    ".filter((F.col('probability') >= \"50\") & (F.col('cat_id') == \"308\"))\n",
    ".withColumn('url', F.split(F.col('url'), \"//\")[1])\n",
    ".withColumn('url', F.split(F.col('url'), \"/\")[0])\n",
    ".select('url').distinct()\n",
    "       )\n",
    "Sto_loto.coalesce(1).write.mode('overwrite').csv('/user/content_analyst/result/RCMPGN-152/Sto_loto.csv',sep = ';',header = True)"
   ]
  },
  {
   "cell_type": "code",
   "execution_count": null,
   "metadata": {},
   "outputs": [],
   "source": []
  },
  {
   "cell_type": "code",
   "execution_count": 54,
   "metadata": {},
   "outputs": [
    {
     "name": "stdout",
     "output_type": "stream",
     "text": [
      "+--------------------+--------------------+-------------+-------+----------+\n",
      "|                 url|          categories|category_type|version|        dt|\n",
      "+--------------------+--------------------+-------------+-------+----------+\n",
      "|http://0-1.ru/dis...|[893 -> 23, 990 -...|            2|      5|2021-12-02|\n",
      "|http://0-1.ru/dis...|[893 -> 23, 990 -...|            2|      5|2021-12-02|\n",
      "|http://0.gravatar...|         [215 -> 20]|            2|      5|2021-12-02|\n",
      "|http://0.gravatar...|         [215 -> 20]|            2|      5|2021-12-02|\n",
      "|http://0.gravatar...|         [215 -> 20]|            2|      5|2021-12-02|\n",
      "|http://0.gravatar...|         [215 -> 20]|            2|      5|2021-12-02|\n",
      "|http://0.gravatar...|         [215 -> 20]|            2|      5|2021-12-02|\n",
      "|http://0.gravatar...|         [215 -> 20]|            2|      5|2021-12-02|\n",
      "|http://0.gravatar...|         [215 -> 20]|            2|      5|2021-12-02|\n",
      "|http://0.gravatar...|         [215 -> 20]|            2|      5|2021-12-02|\n",
      "|http://0.gravatar...|         [215 -> 20]|            2|      5|2021-12-02|\n",
      "|http://0.gravatar...|         [215 -> 20]|            2|      5|2021-12-02|\n",
      "|http://0.gravatar...|         [215 -> 20]|            2|      5|2021-12-02|\n",
      "|http://0.gravatar...|         [215 -> 20]|            2|      5|2021-12-02|\n",
      "|http://0.gravatar...|         [215 -> 20]|            2|      5|2021-12-02|\n",
      "|http://0.gravatar...|         [215 -> 20]|            2|      5|2021-12-02|\n",
      "|http://0.gravatar...|         [215 -> 20]|            2|      5|2021-12-02|\n",
      "|http://0.gravatar...|         [215 -> 20]|            2|      5|2021-12-02|\n",
      "|http://0.gravatar...|         [215 -> 20]|            2|      5|2021-12-02|\n",
      "|http://0.gravatar...|         [215 -> 20]|            2|      5|2021-12-02|\n",
      "+--------------------+--------------------+-------------+-------+----------+\n",
      "only showing top 20 rows\n",
      "\n"
     ]
    }
   ],
   "source": [
    "(spark.read.table(\"datalab.full_categories_view\")\n",
    "       ).show()"
   ]
  },
  {
   "cell_type": "code",
   "execution_count": null,
   "metadata": {},
   "outputs": [],
   "source": []
  },
  {
   "cell_type": "code",
   "execution_count": 55,
   "metadata": {},
   "outputs": [],
   "source": [
    "raiffeisen_travel = (spark.read.table(\"datalab.full_categories_view\")\n",
    ".select('url',F.explode('categories').alias('cat_id','probability'))\n",
    ".filter((F.col('probability') >= \"50\") & ((F.col('cat_id') == \"413\") | (F.col('cat_id') == \"403\") | (F.col('cat_id') == \"1167\")))\n",
    ".withColumn('url', F.split(F.col('url'), \"//\")[1])\n",
    ".withColumn('url', F.split(F.col('url'), \"/\")[0])\n",
    ".select('url').distinct()\n",
    "       )\n",
    "raiffeisen_travel.coalesce(1).write.mode('overwrite').csv('/user/content_analyst/result/RCMPGN-1566/raiffeisen_travel.csv',sep = ';',header = True)"
   ]
  },
  {
   "cell_type": "code",
   "execution_count": 56,
   "metadata": {},
   "outputs": [],
   "source": [
    "raiffeisen_busines = (spark.read.table(\"datalab.full_categories_view\")\n",
    ".select('url',F.explode('categories').alias('cat_id','probability'))\n",
    ".filter((F.col('probability') >= \"50\") & (F.col('cat_id') == \"480\"))\n",
    ".withColumn('url', F.split(F.col('url'), \"//\")[1])\n",
    ".withColumn('url', F.split(F.col('url'), \"/\")[0])\n",
    ".select('url').distinct()\n",
    "       )\n",
    "raiffeisen_busines.coalesce(1).write.mode('overwrite').csv('/user/content_analyst/result/RCMPGN-1566/raiffeisen_busines.csv',sep = ';',header = True)"
   ]
  },
  {
   "cell_type": "code",
   "execution_count": 57,
   "metadata": {},
   "outputs": [],
   "source": [
    "raiffeisen_PO_busines = (spark.read.table(\"datalab.full_categories_view\")\n",
    ".select('url',F.explode('categories').alias('cat_id','probability'))\n",
    ".filter((F.col('probability') >= \"50\") & (F.col('cat_id') == \"1452\"))\n",
    ".withColumn('url', F.split(F.col('url'), \"//\")[1])\n",
    ".withColumn('url', F.split(F.col('url'), \"/\")[0])\n",
    ".select('url').distinct()\n",
    "       )\n",
    "raiffeisen_PO_busines.coalesce(1).write.mode('overwrite').csv('/user/content_analyst/result/RCMPGN-1566/raiffeisen_PO_busines.csv',sep = ';',header = True)"
   ]
  },
  {
   "cell_type": "code",
   "execution_count": 58,
   "metadata": {},
   "outputs": [],
   "source": [
    "raiffeisen_conf = (spark.read.table(\"datalab.full_categories_view\")\n",
    ".select('url',F.explode('categories').alias('cat_id','probability'))\n",
    ".filter((F.col('probability') >= \"50\") & (F.col('cat_id') == \"1425\"))\n",
    ".withColumn('url', F.split(F.col('url'), \"//\")[1])\n",
    ".withColumn('url', F.split(F.col('url'), \"/\")[0])\n",
    ".select('url').distinct()\n",
    "       )\n",
    "raiffeisen_conf.coalesce(1).write.mode('overwrite').csv('/user/content_analyst/result/RCMPGN-1566/raiffeisen_conf.csv',sep = ';',header = True)"
   ]
  },
  {
   "cell_type": "code",
   "execution_count": null,
   "metadata": {},
   "outputs": [],
   "source": []
  },
  {
   "cell_type": "code",
   "execution_count": null,
   "metadata": {},
   "outputs": [],
   "source": [
    "raiffeisen_conf = (spark.read.table(\"datalab.full_categories_view\")\n",
    ".select('url',F.explode('categories').alias('cat_id','probability'))\n",
    ".filter((F.col('probability') >= \"50\") & (F.col('cat_id') == \"1425\"))\n",
    ".withColumn('url', F.split(F.col('url'), \"//\")[1])\n",
    ".withColumn('url', F.split(F.col('url'), \"/\")[0])\n",
    ".select('url').distinct()\n",
    "       )\n",
    "raiffeisen_conf.coalesce(1).write.mode('overwrite').csv('/user/content_analyst/result/RCMPGN-1566/raiffeisen_conf.csv',sep = ';',header = True)"
   ]
  },
  {
   "cell_type": "code",
   "execution_count": null,
   "metadata": {},
   "outputs": [],
   "source": []
  }
 ],
 "metadata": {
  "kernelspec": {
   "display_name": "Python [conda env:.conda-content_py_37]",
   "language": "python",
   "name": "conda-env-.conda-content_py_37-py"
  },
  "language_info": {
   "codemirror_mode": {
    "name": "ipython",
    "version": 3
   },
   "file_extension": ".py",
   "mimetype": "text/x-python",
   "name": "python",
   "nbconvert_exporter": "python",
   "pygments_lexer": "ipython3",
   "version": "3.7.4"
  }
 },
 "nbformat": 4,
 "nbformat_minor": 4
}
